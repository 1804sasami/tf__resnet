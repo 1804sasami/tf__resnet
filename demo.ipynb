{
 "cells": [
  {
   "cell_type": "code",
   "execution_count": 17,
   "metadata": {},
   "outputs": [],
   "source": [
    "import warnings\n",
    "warnings.filterwarnings('ignore')"
   ]
  },
  {
   "cell_type": "code",
   "execution_count": 18,
   "metadata": {},
   "outputs": [],
   "source": [
    "import numpy as np\n",
    "import tensorflow as tf\n",
    "from tensorflow.keras.datasets import cifar10\n",
    "from tensorflow.keras.callbacks import ReduceLROnPlateau, CSVLogger, EarlyStopping\n",
    "from tensorflow.keras.layers import Input\n",
    "from tensorflow.keras.utils import to_categorical\n",
    "\n",
    "from resnet_builder.resnet import ResnetBuilder"
   ]
  },
  {
   "cell_type": "markdown",
   "metadata": {},
   "source": [
    "### Build ResNet 1D"
   ]
  },
  {
   "cell_type": "code",
   "execution_count": 19,
   "metadata": {},
   "outputs": [
    {
     "name": "stdout",
     "output_type": "stream",
     "text": [
      "Model: \"ResNet18\"\n",
      "_________________________________________________________________\n",
      "Layer (type)                 Output Shape              Param #   \n",
      "=================================================================\n",
      "conv_stage1_block_2 (Conv_st (None, 3, 64)             4800      \n",
      "_________________________________________________________________\n",
      "conv_basic_block_4 (Conv_bas (None, 3, 64)             21440     \n",
      "_________________________________________________________________\n",
      "identity_basic_block_12 (Ide (None, 3, 64)             25216     \n",
      "_________________________________________________________________\n",
      "conv_basic_block_5 (Conv_bas (None, 2, 128)            66944     \n",
      "_________________________________________________________________\n",
      "identity_basic_block_13 (Ide (None, 2, 128)            99584     \n",
      "_________________________________________________________________\n",
      "conv_basic_block_6 (Conv_bas (None, 1, 256)            264960    \n",
      "_________________________________________________________________\n",
      "identity_basic_block_14 (Ide (None, 1, 256)            395776    \n",
      "_________________________________________________________________\n",
      "conv_basic_block_7 (Conv_bas (None, 1, 512)            1054208   \n",
      "_________________________________________________________________\n",
      "identity_basic_block_15 (Ide (None, 1, 512)            1577984   \n",
      "_________________________________________________________________\n",
      "fin_layer_2 (Fin_layer)      (None, 1000)              513000    \n",
      "=================================================================\n",
      "Total params: 4,023,912\n",
      "Trainable params: 4,015,976\n",
      "Non-trainable params: 7,936\n",
      "_________________________________________________________________\n"
     ]
    }
   ],
   "source": [
    "res_1d = ResnetBuilder(name=\"ResNet18\", mode=\"1D\")\n",
    "res_1d(Input((12,10)))\n",
    "res_1d.summary()"
   ]
  },
  {
   "cell_type": "markdown",
   "metadata": {},
   "source": [
    "### Build ResNet50 2D"
   ]
  },
  {
   "cell_type": "code",
   "execution_count": 20,
   "metadata": {},
   "outputs": [
    {
     "name": "stdout",
     "output_type": "stream",
     "text": [
      "Model: \"ResNet50\"\n",
      "_________________________________________________________________\n",
      "Layer (type)                 Output Shape              Param #   \n",
      "=================================================================\n",
      "conv_stage1_block_3 (Conv_st (None, 8, 8, 64)          9728      \n",
      "_________________________________________________________________\n",
      "conv_bottleneck_block_4 (Con (None, 8, 8, 256)         75392     \n",
      "_________________________________________________________________\n",
      "identity_bottleneck_block_29 (None, 8, 8, 256)         71552     \n",
      "_________________________________________________________________\n",
      "identity_bottleneck_block_30 (None, 8, 8, 256)         71552     \n",
      "_________________________________________________________________\n",
      "conv_bottleneck_block_5 (Con (None, 4, 4, 512)         381184    \n",
      "_________________________________________________________________\n",
      "identity_bottleneck_block_31 (None, 4, 4, 512)         282368    \n",
      "_________________________________________________________________\n",
      "identity_bottleneck_block_32 (None, 4, 4, 512)         282368    \n",
      "_________________________________________________________________\n",
      "identity_bottleneck_block_33 (None, 4, 4, 512)         282368    \n",
      "_________________________________________________________________\n",
      "conv_bottleneck_block_6 (Con (None, 2, 2, 1024)        1516032   \n",
      "_________________________________________________________________\n",
      "identity_bottleneck_block_34 (None, 2, 2, 1024)        1121792   \n",
      "_________________________________________________________________\n",
      "identity_bottleneck_block_35 (None, 2, 2, 1024)        1121792   \n",
      "_________________________________________________________________\n",
      "identity_bottleneck_block_36 (None, 2, 2, 1024)        1121792   \n",
      "_________________________________________________________________\n",
      "identity_bottleneck_block_37 (None, 2, 2, 1024)        1121792   \n",
      "_________________________________________________________________\n",
      "identity_bottleneck_block_38 (None, 2, 2, 1024)        1121792   \n",
      "_________________________________________________________________\n",
      "conv_bottleneck_block_7 (Con (None, 1, 1, 2048)        6046720   \n",
      "_________________________________________________________________\n",
      "identity_bottleneck_block_39 (None, 1, 1, 2048)        4471808   \n",
      "_________________________________________________________________\n",
      "identity_bottleneck_block_40 (None, 1, 1, 2048)        4471808   \n",
      "_________________________________________________________________\n",
      "fin_layer_3 (Fin_layer)      (None, 1000)              2049000   \n",
      "=================================================================\n",
      "Total params: 25,620,840\n",
      "Trainable params: 25,575,656\n",
      "Non-trainable params: 45,184\n",
      "_________________________________________________________________\n"
     ]
    }
   ],
   "source": [
    "res_2d = ResnetBuilder(name=\"ResNet50\", mode=\"2D\")\n",
    "res_2d(Input((32,32,3)))\n",
    "res_2d.summary()"
   ]
  },
  {
   "cell_type": "markdown",
   "metadata": {},
   "source": [
    "### Build Time Distributed ResNet34 with GroupNorm\n",
    "norm = \"GroupNrom\" means using GroupNormalization instead of BatchNormalization"
   ]
  },
  {
   "cell_type": "code",
   "execution_count": 21,
   "metadata": {},
   "outputs": [
    {
     "name": "stdout",
     "output_type": "stream",
     "text": [
      "Model: \"ResNet34\"\n",
      "_________________________________________________________________\n",
      "Layer (type)                 Output Shape              Param #   \n",
      "=================================================================\n",
      "conv_stage1_block_4 (Conv_st (None, 5, 8, 8, 64)       9600      \n",
      "_________________________________________________________________\n",
      "conv_basic_block_8 (Conv_bas (None, 5, 8, 8, 64)       45632     \n",
      "_________________________________________________________________\n",
      "identity_basic_block_16 (Ide (None, 5, 8, 8, 64)       74112     \n",
      "_________________________________________________________________\n",
      "identity_basic_block_17 (Ide (None, 5, 8, 8, 64)       74112     \n",
      "_________________________________________________________________\n",
      "conv_basic_block_9 (Conv_bas (None, 5, 4, 4, 128)      164736    \n",
      "_________________________________________________________________\n",
      "identity_basic_block_18 (Ide (None, 5, 4, 4, 128)      295680    \n",
      "_________________________________________________________________\n",
      "identity_basic_block_19 (Ide (None, 5, 4, 4, 128)      295680    \n",
      "_________________________________________________________________\n",
      "identity_basic_block_20 (Ide (None, 5, 4, 4, 128)      295680    \n",
      "_________________________________________________________________\n",
      "conv_basic_block_10 (Conv_ba (None, 5, 2, 2, 256)      657152    \n",
      "_________________________________________________________________\n",
      "identity_basic_block_21 (Ide (None, 5, 2, 2, 256)      1181184   \n",
      "_________________________________________________________________\n",
      "identity_basic_block_22 (Ide (None, 5, 2, 2, 256)      1181184   \n",
      "_________________________________________________________________\n",
      "identity_basic_block_23 (Ide (None, 5, 2, 2, 256)      1181184   \n",
      "_________________________________________________________________\n",
      "identity_basic_block_24 (Ide (None, 5, 2, 2, 256)      1181184   \n",
      "_________________________________________________________________\n",
      "identity_basic_block_25 (Ide (None, 5, 2, 2, 256)      1181184   \n",
      "_________________________________________________________________\n",
      "conv_basic_block_11 (Conv_ba (None, 5, 1, 1, 512)      2625024   \n",
      "_________________________________________________________________\n",
      "identity_basic_block_26 (Ide (None, 5, 1, 1, 512)      4721664   \n",
      "_________________________________________________________________\n",
      "identity_basic_block_27 (Ide (None, 5, 1, 1, 512)      4721664   \n",
      "_________________________________________________________________\n",
      "fin_layer_4 (Fin_layer)      (None, 1000)              2561000   \n",
      "=================================================================\n",
      "Total params: 22,447,656\n",
      "Trainable params: 22,447,656\n",
      "Non-trainable params: 0\n",
      "_________________________________________________________________\n"
     ]
    }
   ],
   "source": [
    "res_2d = ResnetBuilder(name=\"ResNet34\", mode=\"TimeD\", norm=\"GroupNorm\")\n",
    "res_2d(Input((5, 32,32,3)))\n",
    "res_2d.summary()"
   ]
  },
  {
   "cell_type": "markdown",
   "metadata": {},
   "source": [
    "### Build ResNet 3D"
   ]
  },
  {
   "cell_type": "code",
   "execution_count": 22,
   "metadata": {},
   "outputs": [
    {
     "name": "stdout",
     "output_type": "stream",
     "text": [
      "Model: \"ResNet101\"\n",
      "_________________________________________________________________\n",
      "Layer (type)                 Output Shape              Param #   \n",
      "=================================================================\n",
      "conv_stage1_block_5 (Conv_st (None, 13, 8, 8, 64)      66176     \n",
      "_________________________________________________________________\n",
      "conv_bottleneck_block_8 (Con (None, 13, 8, 8, 256)     149120    \n",
      "_________________________________________________________________\n",
      "identity_bottleneck_block_41 (None, 13, 8, 8, 256)     145280    \n",
      "_________________________________________________________________\n",
      "identity_bottleneck_block_42 (None, 13, 8, 8, 256)     145280    \n",
      "_________________________________________________________________\n",
      "conv_bottleneck_block_9 (Con (None, 7, 4, 4, 512)      676096    \n",
      "_________________________________________________________________\n",
      "identity_bottleneck_block_43 (None, 7, 4, 4, 512)      577280    \n",
      "_________________________________________________________________\n",
      "identity_bottleneck_block_44 (None, 7, 4, 4, 512)      577280    \n",
      "_________________________________________________________________\n",
      "identity_bottleneck_block_45 (None, 7, 4, 4, 512)      577280    \n",
      "_________________________________________________________________\n",
      "conv_bottleneck_block_10 (Co (None, 4, 2, 2, 1024)     2695680   \n",
      "_________________________________________________________________\n",
      "identity_bottleneck_block_46 (None, 4, 2, 2, 1024)     2301440   \n",
      "_________________________________________________________________\n",
      "identity_bottleneck_block_47 (None, 4, 2, 2, 1024)     2301440   \n",
      "_________________________________________________________________\n",
      "identity_bottleneck_block_48 (None, 4, 2, 2, 1024)     2301440   \n",
      "_________________________________________________________________\n",
      "identity_bottleneck_block_49 (None, 4, 2, 2, 1024)     2301440   \n",
      "_________________________________________________________________\n",
      "identity_bottleneck_block_50 (None, 4, 2, 2, 1024)     2301440   \n",
      "_________________________________________________________________\n",
      "identity_bottleneck_block_51 (None, 4, 2, 2, 1024)     2301440   \n",
      "_________________________________________________________________\n",
      "identity_bottleneck_block_52 (None, 4, 2, 2, 1024)     2301440   \n",
      "_________________________________________________________________\n",
      "identity_bottleneck_block_53 (None, 4, 2, 2, 1024)     2301440   \n",
      "_________________________________________________________________\n",
      "identity_bottleneck_block_54 (None, 4, 2, 2, 1024)     2301440   \n",
      "_________________________________________________________________\n",
      "identity_bottleneck_block_55 (None, 4, 2, 2, 1024)     2301440   \n",
      "_________________________________________________________________\n",
      "identity_bottleneck_block_56 (None, 4, 2, 2, 1024)     2301440   \n",
      "_________________________________________________________________\n",
      "identity_bottleneck_block_57 (None, 4, 2, 2, 1024)     2301440   \n",
      "_________________________________________________________________\n",
      "identity_bottleneck_block_58 (None, 4, 2, 2, 1024)     2301440   \n",
      "_________________________________________________________________\n",
      "identity_bottleneck_block_59 (None, 4, 2, 2, 1024)     2301440   \n",
      "_________________________________________________________________\n",
      "identity_bottleneck_block_60 (None, 4, 2, 2, 1024)     2301440   \n",
      "_________________________________________________________________\n",
      "identity_bottleneck_block_61 (None, 4, 2, 2, 1024)     2301440   \n",
      "_________________________________________________________________\n",
      "identity_bottleneck_block_62 (None, 4, 2, 2, 1024)     2301440   \n",
      "_________________________________________________________________\n",
      "identity_bottleneck_block_63 (None, 4, 2, 2, 1024)     2301440   \n",
      "_________________________________________________________________\n",
      "identity_bottleneck_block_64 (None, 4, 2, 2, 1024)     2301440   \n",
      "_________________________________________________________________\n",
      "identity_bottleneck_block_65 (None, 4, 2, 2, 1024)     2301440   \n",
      "_________________________________________________________________\n",
      "identity_bottleneck_block_66 (None, 4, 2, 2, 1024)     2301440   \n",
      "_________________________________________________________________\n",
      "identity_bottleneck_block_67 (None, 4, 2, 2, 1024)     2301440   \n",
      "_________________________________________________________________\n",
      "conv_bottleneck_block_11 (Co (None, 2, 1, 1, 2048)     10765312  \n",
      "_________________________________________________________________\n",
      "identity_bottleneck_block_68 (None, 2, 1, 1, 2048)     9190400   \n",
      "_________________________________________________________________\n",
      "identity_bottleneck_block_69 (None, 2, 1, 1, 2048)     9190400   \n",
      "_________________________________________________________________\n",
      "fin_layer_5 (Fin_layer)      (None, 1000)              2049000   \n",
      "=================================================================\n",
      "Total params: 87,436,264\n",
      "Trainable params: 87,338,856\n",
      "Non-trainable params: 97,408\n",
      "_________________________________________________________________\n"
     ]
    }
   ],
   "source": [
    "res_3d = ResnetBuilder(name=\"ResNet101\", mode=\"3D\")\n",
    "res_3d(Input((50, 32,32,3)))\n",
    "res_3d.summary()"
   ]
  },
  {
   "cell_type": "markdown",
   "metadata": {},
   "source": [
    "# Demo with CIFAR10"
   ]
  },
  {
   "cell_type": "code",
   "execution_count": 25,
   "metadata": {},
   "outputs": [],
   "source": [
    "# CIFAR 10 Information\n",
    "class_num = 10\n",
    "img_size = 32\n",
    "ch_num = 3"
   ]
  },
  {
   "cell_type": "code",
   "execution_count": 26,
   "metadata": {},
   "outputs": [],
   "source": [
    "# The data, shuffled and split between train and test sets:\n",
    "(X_train, y_train), (X_test, y_test) = cifar10.load_data()\n",
    "# Convert class vectors to binary class matrices.\n",
    "Y_train = to_categorical(y_train, class_num)\n",
    "Y_test = to_categorical(y_test, class_num)\n",
    "\n",
    "X_train = X_train.astype('float32')\n",
    "X_test = X_test.astype('float32')\n",
    "\n",
    "# subtract mean and normalize\n",
    "mean_image = np.mean(X_train)\n",
    "X_train -= mean_image\n",
    "X_test -= mean_image\n",
    "X_train /= 128.\n",
    "X_test /= 128."
   ]
  },
  {
   "cell_type": "code",
   "execution_count": 27,
   "metadata": {},
   "outputs": [],
   "source": [
    "def flip_image(image):\n",
    "    return tf.image.random_flip_left_right(image)"
   ]
  },
  {
   "cell_type": "code",
   "execution_count": 28,
   "metadata": {},
   "outputs": [],
   "source": [
    "# random crop shift range\n",
    "shift_range = 0.1\n",
    "expand_target_size = int(img_size*(shift_range+1))\n",
    "def image_shift(image):\n",
    "    # padding\n",
    "    image = tf.image.resize_with_crop_or_pad(\n",
    "                    image,\n",
    "                    expand_target_size,\n",
    "                    expand_target_size\n",
    "                    )\n",
    "    #random crop\n",
    "    image = tf.image.random_crop(\n",
    "                    image,\n",
    "                    size=[img_size, img_size, ch_num]\n",
    "                    )\n",
    "    return image"
   ]
  },
  {
   "cell_type": "code",
   "execution_count": 29,
   "metadata": {},
   "outputs": [
    {
     "data": {
      "image/png": "[encoded data removed]",
      "text/plain": [
       "<Figure size 432x288 with 4 Axes>"
      ]
     },
     "metadata": {},
     "output_type": "display_data"
    },
    {
     "data": {
      "image/png": "[encoded data removed]",
      "text/plain": [
       "<Figure size 432x288 with 4 Axes>"
      ]
     },
     "metadata": {},
     "output_type": "display_data"
    },
    {
     "data": {
      "image/png": "[encoded data removed]",
      "text/plain": [
       "<Figure size 432x288 with 4 Axes>"
      ]
     },
     "metadata": {},
     "output_type": "display_data"
    },
    {
     "data": {
      "image/png": "[encoded data removed]",
      "text/plain": [
       "<Figure size 432x288 with 4 Axes>"
      ]
     },
     "metadata": {},
     "output_type": "display_data"
    }
   ],
   "source": [
    "%matplotlib inline\n",
    "import matplotlib.pyplot as plt\n",
    "\n",
    "def show_images(iterator, desc):\n",
    "    for i in range(4):\n",
    "        img = next(iterator)\n",
    "        img = (img.numpy()*128. + mean_image).astype(np.uint8)\n",
    "        if i == 1: plt.title(desc)\n",
    "        plt.subplot(1,4,i+1)\n",
    "        plt.tick_params(\n",
    "                labelbottom=False,\n",
    "                labelleft=False,\n",
    "                labelright=False,\n",
    "                labeltop=False)\n",
    "        plt.imshow(img)  \n",
    "    plt.show()\n",
    "\n",
    "input_ds = tf.data.Dataset.from_tensor_slices(X_train)\n",
    "show_images(iter(input_ds), \"Original\")\n",
    "show_images(iter(input_ds.map(flip_image)), \"FLIP\")\n",
    "show_images(iter(input_ds.map(image_shift)), \"SHIFT\")\n",
    "show_images(iter(input_ds.map(flip_image).map(image_shift)), \"For training\")"
   ]
  },
  {
   "cell_type": "code",
   "execution_count": 30,
   "metadata": {},
   "outputs": [
    {
     "name": "stdout",
     "output_type": "stream",
     "text": [
      ".batch x1 :  (10, 32, 32, 3)\n",
      ".batch x2 :  (10, 5, 32, 32, 3)\n"
     ]
    }
   ],
   "source": [
    "iterator = iter(input_ds.batch(10))\n",
    "x = next(iterator)\n",
    "print(\".batch x1 : \", x.shape)\n",
    "\n",
    "iterator = iter(input_ds.batch(5).batch(10))\n",
    "x = next(iterator)\n",
    "print(\".batch x2 : \", x.shape)"
   ]
  },
  {
   "cell_type": "markdown",
   "metadata": {},
   "source": [
    "# Training"
   ]
  },
  {
   "cell_type": "code",
   "execution_count": 31,
   "metadata": {},
   "outputs": [
    {
     "name": "stdout",
     "output_type": "stream",
     "text": [
      "Model: \"ResNet18\"\n",
      "_________________________________________________________________\n",
      "Layer (type)                 Output Shape              Param #   \n",
      "=================================================================\n",
      "conv_stage1_block_6 (Conv_st (None, 8, 8, 64)          9728      \n",
      "_________________________________________________________________\n",
      "conv_basic_block_12 (Conv_ba (None, 8, 8, 64)          46016     \n",
      "_________________________________________________________________\n",
      "identity_basic_block_28 (Ide (None, 8, 8, 64)          74368     \n",
      "_________________________________________________________________\n",
      "conv_basic_block_13 (Conv_ba (None, 4, 4, 128)         165248    \n",
      "_________________________________________________________________\n",
      "identity_basic_block_29 (Ide (None, 4, 4, 128)         296192    \n",
      "_________________________________________________________________\n",
      "conv_basic_block_14 (Conv_ba (None, 2, 2, 256)         658176    \n",
      "_________________________________________________________________\n",
      "identity_basic_block_30 (Ide (None, 2, 2, 256)         1182208   \n",
      "_________________________________________________________________\n",
      "conv_basic_block_15 (Conv_ba (None, 1, 1, 512)         2627072   \n",
      "_________________________________________________________________\n",
      "identity_basic_block_31 (Ide (None, 1, 1, 512)         4723712   \n",
      "_________________________________________________________________\n",
      "fin_layer_6 (Fin_layer)      (None, 10)                5130      \n",
      "=================================================================\n",
      "Total params: 9,787,850\n",
      "Trainable params: 9,779,914\n",
      "Non-trainable params: 7,936\n",
      "_________________________________________________________________\n"
     ]
    }
   ],
   "source": [
    "batch_size = 32\n",
    "# create train dataset\n",
    "input_ds = tf.data.Dataset.from_tensor_slices(X_train)\n",
    "input_ds = input_ds.map(flip_image).map(image_shift)\n",
    "target_ds = tf.data.Dataset.from_tensor_slices(Y_train)\n",
    "train_ds = tf.data.Dataset.zip((input_ds, target_ds)).batch(batch_size).repeat()\n",
    "\n",
    "# create test\n",
    "input_ds = tf.data.Dataset.from_tensor_slices(X_test)\n",
    "target_ds = tf.data.Dataset.from_tensor_slices(Y_test)\n",
    "test_ds = tf.data.Dataset.zip((input_ds, target_ds)).batch(batch_size).repeat()\n",
    "\n",
    "# ResNet18\n",
    "model = ResnetBuilder(name=\"ResNet18\", mode=\"2D\",include_top=True, class_num=10)\n",
    "model(Input((32,32,3)))\n",
    "model.summary()\n",
    "model.compile(loss='categorical_crossentropy',\n",
    "              optimizer='adam',\n",
    "              metrics=['accuracy'])"
   ]
  },
  {
   "cell_type": "code",
   "execution_count": 32,
   "metadata": {
    "scrolled": false
   },
   "outputs": [
    {
     "name": "stdout",
     "output_type": "stream",
     "text": [
      "Train for 1562 steps, validate for 312 steps\n",
      "Epoch 1/200\n",
      "1562/1562 [==============================] - 47s 30ms/step - loss: 1.6714 - accuracy: 0.4621 - val_loss: 1.1584 - val_accuracy: 0.5870\n",
      "Epoch 2/200\n",
      "1562/1562 [==============================] - 40s 26ms/step - loss: 1.0839 - accuracy: 0.6172 - val_loss: 0.9966 - val_accuracy: 0.6489\n",
      "Epoch 3/200\n",
      "1562/1562 [==============================] - 40s 26ms/step - loss: 0.9388 - accuracy: 0.6718 - val_loss: 0.9196 - val_accuracy: 0.6772\n",
      "Epoch 4/200\n",
      "1562/1562 [==============================] - 40s 26ms/step - loss: 0.8382 - accuracy: 0.7075 - val_loss: 0.8089 - val_accuracy: 0.7160\n",
      "Epoch 5/200\n",
      "1562/1562 [==============================] - 41s 26ms/step - loss: 0.7567 - accuracy: 0.7345 - val_loss: 0.8285 - val_accuracy: 0.7092\n",
      "Epoch 6/200\n",
      "1562/1562 [==============================] - 40s 25ms/step - loss: 0.6929 - accuracy: 0.7598 - val_loss: 0.7414 - val_accuracy: 0.7481\n",
      "Epoch 7/200\n",
      "1562/1562 [==============================] - 40s 25ms/step - loss: 0.6384 - accuracy: 0.7780 - val_loss: 0.7113 - val_accuracy: 0.7609\n",
      "Epoch 8/200\n",
      "1562/1562 [==============================] - 40s 25ms/step - loss: 0.5933 - accuracy: 0.7940 - val_loss: 0.7219 - val_accuracy: 0.7618\n",
      "Epoch 9/200\n",
      "1562/1562 [==============================] - 39s 25ms/step - loss: 0.5558 - accuracy: 0.8072 - val_loss: 0.7008 - val_accuracy: 0.7664\n",
      "Epoch 10/200\n",
      "1562/1562 [==============================] - 41s 26ms/step - loss: 0.5187 - accuracy: 0.8182 - val_loss: 0.7101 - val_accuracy: 0.7622\n",
      "Epoch 11/200\n",
      "1562/1562 [==============================] - 40s 26ms/step - loss: 0.4868 - accuracy: 0.8309 - val_loss: 0.6757 - val_accuracy: 0.7856\n",
      "Epoch 12/200\n",
      "1562/1562 [==============================] - 40s 25ms/step - loss: 0.4595 - accuracy: 0.8397 - val_loss: 0.6649 - val_accuracy: 0.7876\n",
      "Epoch 13/200\n",
      "1562/1562 [==============================] - 39s 25ms/step - loss: 0.4363 - accuracy: 0.8475 - val_loss: 0.6586 - val_accuracy: 0.7859\n",
      "Epoch 14/200\n",
      "1562/1562 [==============================] - 40s 25ms/step - loss: 0.4113 - accuracy: 0.8555 - val_loss: 0.6446 - val_accuracy: 0.7928\n",
      "Epoch 15/200\n",
      "1562/1562 [==============================] - 39s 25ms/step - loss: 0.3886 - accuracy: 0.8655 - val_loss: 0.6822 - val_accuracy: 0.7861\n",
      "Epoch 16/200\n",
      "1562/1562 [==============================] - 39s 25ms/step - loss: 0.3728 - accuracy: 0.8685 - val_loss: 0.6393 - val_accuracy: 0.8015\n",
      "Epoch 17/200\n",
      "1562/1562 [==============================] - 40s 26ms/step - loss: 0.3511 - accuracy: 0.8774 - val_loss: 0.6752 - val_accuracy: 0.7928\n",
      "Epoch 18/200\n",
      "1562/1562 [==============================] - 40s 26ms/step - loss: 0.3340 - accuracy: 0.8836 - val_loss: 0.6845 - val_accuracy: 0.7990\n",
      "Epoch 19/200\n",
      "1562/1562 [==============================] - 41s 26ms/step - loss: 0.3196 - accuracy: 0.8872 - val_loss: 0.6631 - val_accuracy: 0.8016\n",
      "Epoch 20/200\n",
      "1562/1562 [==============================] - 40s 25ms/step - loss: 0.3037 - accuracy: 0.8943 - val_loss: 0.6722 - val_accuracy: 0.8046\n",
      "Epoch 21/200\n",
      "1562/1562 [==============================] - 40s 25ms/step - loss: 0.2897 - accuracy: 0.8982 - val_loss: 0.7168 - val_accuracy: 0.7944\n",
      "Epoch 22/200\n",
      "1562/1562 [==============================] - 40s 26ms/step - loss: 0.2069 - accuracy: 0.9279 - val_loss: 0.6541 - val_accuracy: 0.8204\n",
      "Epoch 23/200\n",
      "1562/1562 [==============================] - 40s 26ms/step - loss: 0.1762 - accuracy: 0.9393 - val_loss: 0.6882 - val_accuracy: 0.8187\n",
      "Epoch 24/200\n",
      "1562/1562 [==============================] - 40s 26ms/step - loss: 0.1646 - accuracy: 0.9429 - val_loss: 0.7104 - val_accuracy: 0.8204\n",
      "Epoch 25/200\n",
      "1562/1562 [==============================] - 41s 26ms/step - loss: 0.1499 - accuracy: 0.9468 - val_loss: 0.7106 - val_accuracy: 0.8193\n",
      "Epoch 26/200\n",
      "1562/1562 [==============================] - 40s 26ms/step - loss: 0.1424 - accuracy: 0.9518 - val_loss: 0.7219 - val_accuracy: 0.8198\n"
     ]
    },
    {
     "data": {
      "text/plain": [
       "<tensorflow.python.keras.callbacks.History at 0x7f522c3d89b0>"
      ]
     },
     "execution_count": 32,
     "metadata": {},
     "output_type": "execute_result"
    }
   ],
   "source": [
    "# fit method\n",
    "early_stopper = EarlyStopping(min_delta=0.001, patience=10)\n",
    "tb_callback = tf.keras.callbacks.TensorBoard(\"./tb_logdir\", histogram_freq=1)\n",
    "model.fit(train_ds, \n",
    "                steps_per_epoch=int(np.floor(X_train.shape[0]/batch_size)),\n",
    "                validation_data=test_ds,\n",
    "                validation_steps=int(np.floor(X_test.shape[0]/batch_size)),\n",
    "                epochs=200, \n",
    "                verbose=1,\n",
    "                callbacks=[lr_reducer, early_stopper, tb_callback]\n",
    "                )"
   ]
  },
  {
   "cell_type": "markdown",
   "metadata": {},
   "source": [
    "## Faster dataset setting"
   ]
  },
  {
   "cell_type": "code",
   "execution_count": 33,
   "metadata": {
    "scrolled": true
   },
   "outputs": [
    {
     "name": "stdout",
     "output_type": "stream",
     "text": [
      "Model: \"ResNet18\"\n",
      "_________________________________________________________________\n",
      "Layer (type)                 Output Shape              Param #   \n",
      "=================================================================\n",
      "conv_stage1_block_7 (Conv_st (None, 8, 8, 64)          9728      \n",
      "_________________________________________________________________\n",
      "conv_basic_block_16 (Conv_ba (None, 8, 8, 64)          46016     \n",
      "_________________________________________________________________\n",
      "identity_basic_block_32 (Ide (None, 8, 8, 64)          74368     \n",
      "_________________________________________________________________\n",
      "conv_basic_block_17 (Conv_ba (None, 4, 4, 128)         165248    \n",
      "_________________________________________________________________\n",
      "identity_basic_block_33 (Ide (None, 4, 4, 128)         296192    \n",
      "_________________________________________________________________\n",
      "conv_basic_block_18 (Conv_ba (None, 2, 2, 256)         658176    \n",
      "_________________________________________________________________\n",
      "identity_basic_block_34 (Ide (None, 2, 2, 256)         1182208   \n",
      "_________________________________________________________________\n",
      "conv_basic_block_19 (Conv_ba (None, 1, 1, 512)         2627072   \n",
      "_________________________________________________________________\n",
      "identity_basic_block_35 (Ide (None, 1, 1, 512)         4723712   \n",
      "_________________________________________________________________\n",
      "fin_layer_7 (Fin_layer)      (None, 10)                5130      \n",
      "=================================================================\n",
      "Total params: 9,787,850\n",
      "Trainable params: 9,779,914\n",
      "Non-trainable params: 7,936\n",
      "_________________________________________________________________\n"
     ]
    }
   ],
   "source": [
    "# ResNet18\n",
    "model2 = ResnetBuilder(name=\"ResNet18\", mode=\"2D\",include_top=True, class_num=10)\n",
    "model2(Input((32,32,3)))\n",
    "model2.summary()\n",
    "model2.compile(loss='categorical_crossentropy',\n",
    "              optimizer='adam',\n",
    "              metrics=['accuracy'])"
   ]
  },
  {
   "cell_type": "code",
   "execution_count": 34,
   "metadata": {},
   "outputs": [],
   "source": [
    "# create train dataset\n",
    "input_ds = tf.data.Dataset.from_tensor_slices(X_train)\n",
    "input_ds = input_ds.map(flip_image, num_parallel_calls=tf.data.experimental.AUTOTUNE)\n",
    "input_ds = input_ds.map(image_shift, num_parallel_calls=tf.data.experimental.AUTOTUNE)\n",
    "target_ds = tf.data.Dataset.from_tensor_slices(Y_train)\n",
    "train_ds = tf.data.Dataset.zip((input_ds, target_ds)).batch(batch_size).repeat()\n",
    "\n",
    "# create test\n",
    "input_ds = tf.data.Dataset.from_tensor_slices(X_test)\n",
    "target_ds = tf.data.Dataset.from_tensor_slices(Y_test)\n",
    "test_ds = tf.data.Dataset.zip((input_ds, target_ds)).batch(batch_size).repeat()"
   ]
  },
  {
   "cell_type": "code",
   "execution_count": 35,
   "metadata": {
    "scrolled": false
   },
   "outputs": [
    {
     "name": "stdout",
     "output_type": "stream",
     "text": [
      "Train for 1562 steps, validate for 312 steps\n",
      "Epoch 1/200\n",
      "1562/1562 [==============================] - 32s 20ms/step - loss: 1.6230 - accuracy: 0.4743 - val_loss: 1.1318 - val_accuracy: 0.6004\n",
      "Epoch 2/200\n",
      "1562/1562 [==============================] - 27s 17ms/step - loss: 1.0758 - accuracy: 0.6246 - val_loss: 1.0429 - val_accuracy: 0.6401\n",
      "Epoch 3/200\n",
      "1562/1562 [==============================] - 28s 18ms/step - loss: 0.9327 - accuracy: 0.6741 - val_loss: 0.9690 - val_accuracy: 0.6707\n",
      "Epoch 4/200\n",
      "1562/1562 [==============================] - 28s 18ms/step - loss: 0.8255 - accuracy: 0.7116 - val_loss: 0.8178 - val_accuracy: 0.7186\n",
      "Epoch 5/200\n",
      "1562/1562 [==============================] - 27s 17ms/step - loss: 0.7468 - accuracy: 0.7403 - val_loss: 0.7687 - val_accuracy: 0.7416\n",
      "Epoch 6/200\n",
      "1562/1562 [==============================] - 28s 18ms/step - loss: 0.6844 - accuracy: 0.7606 - val_loss: 0.7150 - val_accuracy: 0.7582\n",
      "Epoch 7/200\n",
      "1562/1562 [==============================] - 27s 17ms/step - loss: 0.6292 - accuracy: 0.7816 - val_loss: 0.6913 - val_accuracy: 0.7687\n",
      "Epoch 8/200\n",
      "1562/1562 [==============================] - 27s 18ms/step - loss: 0.5913 - accuracy: 0.7939 - val_loss: 0.7371 - val_accuracy: 0.7570\n",
      "Epoch 9/200\n",
      "1562/1562 [==============================] - 28s 18ms/step - loss: 0.5527 - accuracy: 0.8077 - val_loss: 0.7047 - val_accuracy: 0.7683\n",
      "Epoch 10/200\n",
      "1562/1562 [==============================] - 28s 18ms/step - loss: 0.5147 - accuracy: 0.8203 - val_loss: 0.6757 - val_accuracy: 0.7770\n",
      "Epoch 11/200\n",
      "1562/1562 [==============================] - 28s 18ms/step - loss: 0.4830 - accuracy: 0.8328 - val_loss: 0.7053 - val_accuracy: 0.7715\n",
      "Epoch 12/200\n",
      "1562/1562 [==============================] - 27s 17ms/step - loss: 0.4573 - accuracy: 0.8404 - val_loss: 0.6838 - val_accuracy: 0.7789\n",
      "Epoch 13/200\n",
      "1562/1562 [==============================] - 28s 18ms/step - loss: 0.4286 - accuracy: 0.8490 - val_loss: 0.6607 - val_accuracy: 0.7895\n",
      "Epoch 14/200\n",
      "1562/1562 [==============================] - 28s 18ms/step - loss: 0.4059 - accuracy: 0.8584 - val_loss: 0.6704 - val_accuracy: 0.7899\n",
      "Epoch 15/200\n",
      "1562/1562 [==============================] - 28s 18ms/step - loss: 0.3912 - accuracy: 0.8618 - val_loss: 0.6376 - val_accuracy: 0.8006\n",
      "Epoch 16/200\n",
      "1562/1562 [==============================] - 27s 18ms/step - loss: 0.3643 - accuracy: 0.8735 - val_loss: 0.6520 - val_accuracy: 0.8015\n",
      "Epoch 17/200\n",
      "1562/1562 [==============================] - 28s 18ms/step - loss: 0.3536 - accuracy: 0.8775 - val_loss: 0.6658 - val_accuracy: 0.7932\n",
      "Epoch 18/200\n",
      "1562/1562 [==============================] - 29s 18ms/step - loss: 0.3331 - accuracy: 0.8827 - val_loss: 0.6561 - val_accuracy: 0.8021\n",
      "Epoch 19/200\n",
      "1562/1562 [==============================] - 28s 18ms/step - loss: 0.3164 - accuracy: 0.8898 - val_loss: 0.6663 - val_accuracy: 0.7990\n",
      "Epoch 20/200\n",
      "1562/1562 [==============================] - 29s 19ms/step - loss: 0.3051 - accuracy: 0.8926 - val_loss: 0.6346 - val_accuracy: 0.8067\n",
      "Epoch 21/200\n",
      "1562/1562 [==============================] - 33s 21ms/step - loss: 0.2893 - accuracy: 0.8995 - val_loss: 0.6867 - val_accuracy: 0.7999\n",
      "Epoch 22/200\n",
      "1562/1562 [==============================] - 31s 20ms/step - loss: 0.2770 - accuracy: 0.9024 - val_loss: 0.6769 - val_accuracy: 0.8062\n",
      "Epoch 23/200\n",
      "1562/1562 [==============================] - 32s 21ms/step - loss: 0.2696 - accuracy: 0.9054 - val_loss: 0.6824 - val_accuracy: 0.8026\n",
      "Epoch 24/200\n",
      "1562/1562 [==============================] - 32s 20ms/step - loss: 0.2566 - accuracy: 0.9093 - val_loss: 0.6732 - val_accuracy: 0.8124\n",
      "Epoch 25/200\n",
      "1559/1562 [============================>.] - ETA: 0s - loss: 0.2440 - accuracy: 0.9133\n",
      "Epoch 00025: ReduceLROnPlateau reducing learning rate to 0.00031622778103685084.\n",
      "1562/1562 [==============================] - 32s 20ms/step - loss: 0.2442 - accuracy: 0.9132 - val_loss: 0.7022 - val_accuracy: 0.8053\n",
      "Epoch 26/200\n",
      "1562/1562 [==============================] - 31s 20ms/step - loss: 0.1749 - accuracy: 0.9392 - val_loss: 0.6863 - val_accuracy: 0.8219\n",
      "Epoch 27/200\n",
      "1562/1562 [==============================] - 32s 20ms/step - loss: 0.1447 - accuracy: 0.9491 - val_loss: 0.7236 - val_accuracy: 0.8235\n",
      "Epoch 28/200\n",
      "1562/1562 [==============================] - 32s 20ms/step - loss: 0.1247 - accuracy: 0.9560 - val_loss: 0.7725 - val_accuracy: 0.8216\n",
      "Epoch 29/200\n",
      "1562/1562 [==============================] - 31s 20ms/step - loss: 0.1202 - accuracy: 0.9582 - val_loss: 0.7630 - val_accuracy: 0.8235\n",
      "Epoch 30/200\n",
      "1558/1562 [============================>.] - ETA: 0s - loss: 0.1100 - accuracy: 0.9621\n",
      "Epoch 00030: ReduceLROnPlateau reducing learning rate to 0.00010000000639606199.\n",
      "1562/1562 [==============================] - 31s 20ms/step - loss: 0.1101 - accuracy: 0.9621 - val_loss: 0.7921 - val_accuracy: 0.8246\n",
      "Epoch 00030: early stopping\n"
     ]
    },
    {
     "data": {
      "text/plain": [
       "<tensorflow.python.keras.callbacks.History at 0x7f51c452ce80>"
      ]
     },
     "execution_count": 35,
     "metadata": {},
     "output_type": "execute_result"
    }
   ],
   "source": [
    "lr_reducer = ReduceLROnPlateau(factor=np.sqrt(0.1), cooldown=0, patience=5, min_lr=0.5e-6,verbose=1)\n",
    "early_stopper = EarlyStopping(verbose=1, patience=10)\n",
    "model2.fit(train_ds, \n",
    "                steps_per_epoch=int(np.floor(X_train.shape[0]/batch_size)),\n",
    "                validation_data=test_ds,\n",
    "                validation_steps=int(np.floor(X_test.shape[0]/batch_size)),\n",
    "                epochs=200, \n",
    "                verbose=1,\n",
    "                callbacks=[lr_reducer, early_stopper]\n",
    "                )"
   ]
  }
 ],
 "metadata": {
  "kernelspec": {
   "display_name": "ml-env",
   "language": "python",
   "name": "ml-env"
  },
  "language_info": {
   "codemirror_mode": {
    "name": "ipython",
    "version": 3
   },
   "file_extension": ".py",
   "mimetype": "text/x-python",
   "name": "python",
   "nbconvert_exporter": "python",
   "pygments_lexer": "ipython3",
   "version": "3.7.3"
  }
 },
 "nbformat": 4,
 "nbformat_minor": 2
}
